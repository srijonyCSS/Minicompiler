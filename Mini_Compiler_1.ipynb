{
  "nbformat": 4,
  "nbformat_minor": 0,
  "metadata": {
    "colab": {
      "provenance": []
    },
    "kernelspec": {
      "name": "python3",
      "display_name": "Python 3"
    },
    "language_info": {
      "name": "python"
    }
  },
  "cells": [
    {
      "cell_type": "markdown",
      "source": [
        "LEXICAL ANALYZER"
      ],
      "metadata": {
        "id": "5ytSPHY_Ajmy"
      }
    },
    {
      "cell_type": "code",
      "source": [
        "import re\n",
        "\n",
        "def lexical_analyzer(code):\n",
        "    token_spec = [\n",
        "        ('NUMBER',   r'\\d+'),\n",
        "        ('ID',       r'[A-Za-z_]\\w*'),\n",
        "        ('ASSIGN',   r'='),\n",
        "        ('END',      r';'),\n",
        "        ('OP',       r'[\\+\\-\\*/]'),\n",
        "        ('COMPARE',  r'[<>!=]=?|=='),\n",
        "        ('LPAREN',   r'\\('),\n",
        "        ('RPAREN',   r'\\)'),\n",
        "        ('LBRACE',   r'\\{'),\n",
        "        ('RBRACE',   r'\\}'),\n",
        "        ('IF',       r'if'),\n",
        "        ('ELSE',     r'else'),\n",
        "        ('WHILE',    r'while'),\n",
        "        ('SKIP',     r'[ \\t\\n]+'),\n",
        "        ('MISMATCH', r'.')\n",
        "    ]\n",
        "    tok_regex = '|'.join(f'(?P<{name}>{pattern})' for name, pattern in token_spec)\n",
        "\n",
        "    tokens = []\n",
        "    for mo in re.finditer(tok_regex, code):\n",
        "        kind = mo.lastgroup\n",
        "        value = mo.group()\n",
        "        if kind == 'SKIP':\n",
        "            continue\n",
        "        elif kind == 'MISMATCH':\n",
        "            raise RuntimeError(f'Unexpected token: {value}')\n",
        "        else:\n",
        "            tokens.append((kind, value))\n",
        "    return tokens\n",
        "\n",
        "\n",
        "\n",
        "sample_code = \"\"\"\n",
        "a = 10;\n",
        "b = 20;\n",
        "if (a < b) {\n",
        "    c = a + b;\n",
        "}\n",
        "\"\"\"\n",
        "\n",
        "tokens = lexical_analyzer(sample_code)\n",
        "print(\"TOKENS:\")\n",
        "for t in tokens:\n",
        "    print(t)\n"
      ],
      "metadata": {
        "colab": {
          "base_uri": "https://localhost:8080/"
        },
        "id": "8pPHErJmAoCZ",
        "outputId": "b0cabe27-8e95-4588-bbb6-a6be8cd0539d"
      },
      "execution_count": 7,
      "outputs": [
        {
          "output_type": "stream",
          "name": "stdout",
          "text": [
            "TOKENS:\n",
            "('ID', 'a')\n",
            "('ASSIGN', '=')\n",
            "('NUMBER', '10')\n",
            "('END', ';')\n",
            "('ID', 'b')\n",
            "('ASSIGN', '=')\n",
            "('NUMBER', '20')\n",
            "('END', ';')\n",
            "('ID', 'if')\n",
            "('LPAREN', '(')\n",
            "('ID', 'a')\n",
            "('COMPARE', '<')\n",
            "('ID', 'b')\n",
            "('RPAREN', ')')\n",
            "('LBRACE', '{')\n",
            "('ID', 'c')\n",
            "('ASSIGN', '=')\n",
            "('ID', 'a')\n",
            "('OP', '+')\n",
            "('ID', 'b')\n",
            "('END', ';')\n",
            "('RBRACE', '}')\n"
          ]
        }
      ]
    },
    {
      "cell_type": "markdown",
      "source": [
        "SYNTAX ANALYZER"
      ],
      "metadata": {
        "id": "PO9aGBm1Au80"
      }
    },
    {
      "cell_type": "code",
      "source": [
        "def syntax_analyzer(tokens):\n",
        "    stack = []\n",
        "    valid = True\n",
        "    for t, v in tokens:\n",
        "        if t == 'LBRACE':\n",
        "            stack.append('{')\n",
        "        elif t == 'RBRACE':\n",
        "            if not stack:\n",
        "                print(\"Syntax Error: unmatched '}' found\")\n",
        "                valid = False\n",
        "            else:\n",
        "                stack.pop()\n",
        "\n",
        "    if stack:\n",
        "        print(\"Syntax Error: missing '}'\")\n",
        "        valid = False\n",
        "\n",
        "    semicolons = [v for t,v in tokens if t=='END']\n",
        "    if not semicolons:\n",
        "        print(\"Syntax Error: missing ';'\")\n",
        "        valid = False\n",
        "\n",
        "    if valid:\n",
        "        print(\"Syntax Analysis Passed.\")\n",
        "    return valid\n",
        "\n",
        "\n",
        "syntax_analyzer(tokens)\n"
      ],
      "metadata": {
        "colab": {
          "base_uri": "https://localhost:8080/"
        },
        "id": "E0-wOHLTAys7",
        "outputId": "1ca3fe17-6307-44b1-d92c-6cb5f63c2e71"
      },
      "execution_count": 8,
      "outputs": [
        {
          "output_type": "stream",
          "name": "stdout",
          "text": [
            "Syntax Analysis Passed.\n"
          ]
        },
        {
          "output_type": "execute_result",
          "data": {
            "text/plain": [
              "True"
            ]
          },
          "metadata": {},
          "execution_count": 8
        }
      ]
    },
    {
      "cell_type": "markdown",
      "source": [
        "Symbol Table"
      ],
      "metadata": {
        "id": "Jjlbojf9B--u"
      }
    },
    {
      "cell_type": "code",
      "source": [
        "def build_symbol_table(tokens):\n",
        "    table = {}\n",
        "    for t,v in tokens:\n",
        "        if t == 'ID' and v not in ['if','else','while']:\n",
        "            table[v] = {'type': 'int', 'value': None}\n",
        "    print(\"\\nSYMBOL TABLE:\")\n",
        "    for k,v in table.items():\n",
        "        print(f\"{k}: {v}\")\n",
        "    return table\n",
        "\n",
        "symbol_table = build_symbol_table(tokens)\n"
      ],
      "metadata": {
        "colab": {
          "base_uri": "https://localhost:8080/"
        },
        "id": "6Jl07CqDB_1I",
        "outputId": "81289444-0ec6-4e07-dc7c-f1064d9015c9"
      },
      "execution_count": 9,
      "outputs": [
        {
          "output_type": "stream",
          "name": "stdout",
          "text": [
            "\n",
            "SYMBOL TABLE:\n",
            "a: {'type': 'int', 'value': None}\n",
            "b: {'type': 'int', 'value': None}\n",
            "c: {'type': 'int', 'value': None}\n"
          ]
        }
      ]
    },
    {
      "cell_type": "markdown",
      "source": [
        "Intermediate Code Generation"
      ],
      "metadata": {
        "id": "HZwpOEy5CGYY"
      }
    },
    {
      "cell_type": "code",
      "source": [
        "def generate_intermediate_code(tokens):\n",
        "    ic = []\n",
        "    i = 0\n",
        "    while i < len(tokens):\n",
        "        if tokens[i][0] == 'ID' and i+1 < len(tokens) and tokens[i+1][0] == 'ASSIGN':\n",
        "            var = tokens[i][1]\n",
        "            expr = \"\"\n",
        "            i += 2\n",
        "            while i < len(tokens) and tokens[i][0] != 'END':\n",
        "                expr += tokens[i][1]\n",
        "                i += 1\n",
        "            ic.append(f\"{var} = {expr}\")\n",
        "\n",
        "        elif tokens[i][0] == 'IF':\n",
        "            cond = \"\"\n",
        "            i += 2  # skip 'if' and '('\n",
        "            while tokens[i][0] != 'RPAREN':\n",
        "                cond += tokens[i][1]\n",
        "                i += 1\n",
        "            ic.append(f\"IF {cond} GOTO L1\")\n",
        "            ic.append(\"GOTO L2\")\n",
        "            ic.append(\"LABEL L1:\")\n",
        "\n",
        "        elif tokens[i][0] == 'RBRACE':\n",
        "            ic.append(\"LABEL L2:\")\n",
        "        i += 1\n",
        "\n",
        "    print(\"\\nINTERMEDIATE CODE:\")\n",
        "    for c in ic:\n",
        "        print(c)\n",
        "    return ic\n",
        "\n",
        "intermediate_code = generate_intermediate_code(tokens)\n"
      ],
      "metadata": {
        "colab": {
          "base_uri": "https://localhost:8080/"
        },
        "id": "MKb1qRLLCHSe",
        "outputId": "a2d7c17a-6e4f-4b9e-85c1-2a7cc1932ba7"
      },
      "execution_count": 10,
      "outputs": [
        {
          "output_type": "stream",
          "name": "stdout",
          "text": [
            "\n",
            "INTERMEDIATE CODE:\n",
            "a = 10\n",
            "b = 20\n",
            "c = a+b\n",
            "LABEL L2:\n"
          ]
        }
      ]
    },
    {
      "cell_type": "markdown",
      "source": [
        "Target Machine Code"
      ],
      "metadata": {
        "id": "UTSs1F2VCWWB"
      }
    },
    {
      "cell_type": "code",
      "source": [
        "def generate_machine_code(ic):\n",
        "    asm = []\n",
        "    for line in ic:\n",
        "        if \"=\" in line:\n",
        "            var, expr = line.split(\"=\")\n",
        "            var = var.strip()\n",
        "            expr = expr.strip()\n",
        "            asm.append(f\"LOAD {expr}\")\n",
        "            asm.append(f\"STORE {var}\")\n",
        "        elif line.startswith(\"IF\") or line.startswith(\"GOTO\") or line.startswith(\"LABEL\"):\n",
        "            asm.append(line)\n",
        "\n",
        "    print(\"\\nMACHINE CODE:\")\n",
        "    for a in asm:\n",
        "        print(a)\n",
        "    return asm\n",
        "\n",
        "machine_code = generate_machine_code(intermediate_code)\n"
      ],
      "metadata": {
        "colab": {
          "base_uri": "https://localhost:8080/"
        },
        "id": "I6egfNgVCXML",
        "outputId": "13000f86-d56d-4f37-a724-f5e5bceefbc5"
      },
      "execution_count": 11,
      "outputs": [
        {
          "output_type": "stream",
          "name": "stdout",
          "text": [
            "\n",
            "MACHINE CODE:\n",
            "LOAD 10\n",
            "STORE a\n",
            "LOAD 20\n",
            "STORE b\n",
            "LOAD a+b\n",
            "STORE c\n",
            "LABEL L2:\n"
          ]
        }
      ]
    },
    {
      "cell_type": "markdown",
      "source": [
        "Combine All (Driver Function)"
      ],
      "metadata": {
        "id": "vbcKUokFClv8"
      }
    },
    {
      "cell_type": "code",
      "source": [
        "def mini_compiler(source_code):\n",
        "    print(\"SOURCE CODE:\\n\", source_code)\n",
        "\n",
        "    tokens = lexical_analyzer(source_code)\n",
        "    if not syntax_analyzer(tokens):\n",
        "        return\n",
        "    build_symbol_table(tokens)\n",
        "    ic = generate_intermediate_code(tokens)\n",
        "    generate_machine_code(ic)\n",
        "    print(\"\\nCOMPILATION SUCCESSFUL!\")\n",
        "\n",
        "\n",
        "mini_compiler(sample_code)\n"
      ],
      "metadata": {
        "colab": {
          "base_uri": "https://localhost:8080/"
        },
        "id": "-IfBgFD1CmO8",
        "outputId": "29a69a0c-507f-47eb-cdaa-eda9266e480a"
      },
      "execution_count": 12,
      "outputs": [
        {
          "output_type": "stream",
          "name": "stdout",
          "text": [
            "SOURCE CODE:\n",
            " \n",
            "a = 10;\n",
            "b = 20;\n",
            "if (a < b) {\n",
            "    c = a + b;\n",
            "}\n",
            "\n",
            "Syntax Analysis Passed.\n",
            "\n",
            "SYMBOL TABLE:\n",
            "a: {'type': 'int', 'value': None}\n",
            "b: {'type': 'int', 'value': None}\n",
            "c: {'type': 'int', 'value': None}\n",
            "\n",
            "INTERMEDIATE CODE:\n",
            "a = 10\n",
            "b = 20\n",
            "c = a+b\n",
            "LABEL L2:\n",
            "\n",
            "MACHINE CODE:\n",
            "LOAD 10\n",
            "STORE a\n",
            "LOAD 20\n",
            "STORE b\n",
            "LOAD a+b\n",
            "STORE c\n",
            "LABEL L2:\n",
            "\n",
            "COMPILATION SUCCESSFUL!\n"
          ]
        }
      ]
    }
  ]
}