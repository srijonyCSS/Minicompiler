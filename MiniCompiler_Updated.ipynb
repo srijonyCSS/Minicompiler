{
  "nbformat": 4,
  "nbformat_minor": 0,
  "metadata": {
    "colab": {
      "provenance": []
    },
    "kernelspec": {
      "name": "python3",
      "display_name": "Python 3"
    },
    "language_info": {
      "name": "python"
    }
  },
  "cells": [
    {
      "cell_type": "code",
      "execution_count": 1,
      "metadata": {
        "id": "UKa5sgJqg6zk"
      },
      "outputs": [],
      "source": [
        "!pip install lark-parser > /dev/null\n",
        "\n",
        "import re\n",
        "from lark import Lark, Transformer\n"
      ]
    },
    {
      "cell_type": "markdown",
      "source": [
        " LEXER"
      ],
      "metadata": {
        "id": "ZC5GXAlhinVK"
      }
    },
    {
      "cell_type": "code",
      "source": [
        "KEYWORDS = {\"int\", \"print\", \"if\", \"else\", \"while\", \"main\"}\n",
        "OPERATORS = {\"==\",\"!=\",\">=\",\"<=\",\"+\",\"-\",\"*\",\"/\",\"=\",\"<\",\">\"}\n",
        "PUNCTS = {\";\", \",\", \"(\", \")\", \"{\", \"}\"}\n",
        "\n",
        "_token_spec = [\n",
        "    (\"COMMENT\",  r\"//[^\\n]*\"),\n",
        "    (\"NUMBER\",   r\"\\d+\"),\n",
        "    (\"ID\",       r\"[A-Za-z_][A-Za-z0-9_]*\"),\n",
        "    (\"OP\",       r\"==|!=|>=|<=|[+\\-*/=<>]\"),\n",
        "    (\"PUNCT\",    r\"[;,(){}]\"),\n",
        "    (\"SKIP\",     r\"[ \\t\\r\\n]+\"),\n",
        "    (\"MISMATCH\", r\".\"),\n",
        "]\n",
        "_tok_re = re.compile(\"|\".join(f\"(?P<{n}>{p})\" for n, p in _token_spec))\n",
        "\n",
        "def tokenize_summary(code: str):\n",
        "    cats = {\"Keyword\":[], \"Identifier\":[], \"Constant\":[], \"Operator\":[], \"Punctuation\":[], \"Comment\":[]}\n",
        "    for m in _tok_re.finditer(code):\n",
        "        k = m.lastgroup; v = m.group()\n",
        "        if k == \"COMMENT\": cats[\"Comment\"].append(v); continue\n",
        "        if k == \"SKIP\":    continue\n",
        "        if k == \"NUMBER\":  cats[\"Constant\"].append(v); continue\n",
        "        if k == \"ID\":\n",
        "            (cats[\"Keyword\"] if v in KEYWORDS else cats[\"Identifier\"]).append(v); continue\n",
        "        if k == \"OP\":      cats[\"Operator\"].append(v); continue\n",
        "        if k == \"PUNCT\":   cats[\"Punctuation\"].append(v); continue\n",
        "        if k == \"MISMATCH\": raise ValueError(f\"Unexpected char: {v}\")\n",
        "    return cats\n"
      ],
      "metadata": {
        "id": "0OrGKoB4ikRo"
      },
      "execution_count": 2,
      "outputs": []
    },
    {
      "cell_type": "markdown",
      "source": [
        "SYNTAX ANALYZER (Parser + AST)"
      ],
      "metadata": {
        "id": "VfI7NpqjqC0s"
      }
    },
    {
      "cell_type": "code",
      "source": [
        "GRAMMAR = r\"\"\"\n",
        "    start: \"int\" \"main\" \"(\" \")\" \"{\" stmt* \"}\"\n",
        "\n",
        "    ?stmt: decl \";\"\n",
        "         | assign \";\"\n",
        "         | print_stmt \";\"\n",
        "         | if_stmt\n",
        "         | while_stmt\n",
        "         | \"{\" stmt* \"}\"        -> block\n",
        "\n",
        "    decl: \"int\" CNAME (\"=\" expr)?\n",
        "    assign: CNAME \"=\" expr\n",
        "    print_stmt: \"print\" \"(\" expr \")\"\n",
        "    if_stmt: \"if\" \"(\" expr \")\" stmt (\"else\" stmt)?\n",
        "    while_stmt: \"while\" \"(\" expr \")\" stmt\n",
        "\n",
        "    ?expr: logic\n",
        "    ?logic: rel\n",
        "          | logic \"==\" rel   -> eq\n",
        "          | logic \"!=\" rel   -> ne\n",
        "    ?rel: add\n",
        "        | rel \">\"  add       -> gt\n",
        "        | rel \"<\"  add       -> lt\n",
        "        | rel \">=\" add       -> ge\n",
        "        | rel \"<=\" add       -> le\n",
        "    ?add: mul\n",
        "        | add \"+\" mul        -> add\n",
        "        | add \"-\" mul        -> sub\n",
        "    ?mul: atom\n",
        "        | mul \"*\" atom       -> mul\n",
        "        | mul \"/\" atom       -> div\n",
        "    ?atom: NUMBER            -> number\n",
        "         | CNAME             -> var\n",
        "         | \"(\" expr \")\"\n",
        "\n",
        "    %import common.CNAME\n",
        "    %import common.NUMBER\n",
        "    %import common.WS\n",
        "    %ignore WS\n",
        "\"\"\"\n",
        "\n",
        "class ASTBuilder(Transformer):\n",
        "    def number(self, n): return (\"num\", int(n[0]))\n",
        "    def var(self, n):    return (\"var\", str(n[0]))\n",
        "    def add(self, i):    return (\"add\", i[0], i[1])\n",
        "    def sub(self, i):    return (\"sub\", i[0], i[1])\n",
        "    def mul(self, i):    return (\"mul\", i[0], i[1])\n",
        "    def div(self, i):    return (\"div\", i[0], i[1])\n",
        "    def eq(self, i):     return (\"eq\",  i[0], i[1])\n",
        "    def ne(self, i):     return (\"ne\",  i[0], i[1])\n",
        "    def gt(self, i):     return (\"gt\",  i[0], i[1])\n",
        "    def lt(self, i):     return (\"lt\",  i[0], i[1])\n",
        "    def ge(self, i):     return (\"ge\",  i[0], i[1])\n",
        "    def le(self, i):     return (\"le\",  i[0], i[1])\n",
        "    def decl(self, i):   return (\"decl\", str(i[0]), i[1] if len(i)==2 else None)\n",
        "    def assign(self, i): return (\"assign\", str(i[0]), i[1])\n",
        "    def print_stmt(self, i): return (\"print\", i[0])\n",
        "    def block(self, items):  return (\"block\", list(items))\n",
        "    def if_stmt(self, items): return (\"if\", items[0], items[1], items[2] if len(items)==3 else None)\n",
        "    def while_stmt(self, items): return (\"while\", items[0], items[1])\n",
        "\n",
        "_parser = Lark(GRAMMAR, parser=\"lalr\")\n",
        "\n",
        "def parse_to_ast(code: str):\n",
        "    tree = _parser.parse(code)\n",
        "    ast = ASTBuilder().transform(tree)\n",
        "    return list(ast.children)\n",
        "\n",
        "\n"
      ],
      "metadata": {
        "id": "E-ijV9liireQ"
      },
      "execution_count": 3,
      "outputs": []
    },
    {
      "cell_type": "markdown",
      "source": [
        "SEMANTIC ANALYZER"
      ],
      "metadata": {
        "id": "N9skg6c2irLR"
      }
    },
    {
      "cell_type": "code",
      "source": [
        "\n",
        "class Symbol:\n",
        "    def __init__(self, name, typ=\"int\"):\n",
        "        self.name = name\n",
        "        self.typ = typ\n",
        "        self.size = {\"int\":4,\"float\":4,\"double\":8,\"char\":1}.get(typ,0)\n",
        "        self.lines_decl = []\n",
        "        self.lines_use = []\n",
        "\n",
        "class SymbolTable:\n",
        "    def __init__(self): self.table = {}\n",
        "    def insert(self, name, typ=\"int\", line=0):\n",
        "        if name in self.table: raise RuntimeError(f\"Duplicate declaration: {name}\")\n",
        "        s = Symbol(name, typ); s.lines_decl.append(line); self.table[name] = s\n",
        "    def lookup(self, name, line=0):\n",
        "        s = self.table.get(name)\n",
        "        if s and line: s.lines_use.append(line)\n",
        "        return s\n",
        "    def dump(self):\n",
        "        return [(i,n,s.typ,s.size,s.lines_decl,s.lines_use) for i,(n,s) in enumerate(self.table.items())]\n",
        "\n",
        "def first_pass_decls(ast, st):\n",
        "    for i, s in enumerate(ast, 1):\n",
        "        if s[0] == \"decl\": st.insert(s[1], \"int\", i)"
      ],
      "metadata": {
        "id": "Uu2oH3qyi2Uz"
      },
      "execution_count": 4,
      "outputs": []
    },
    {
      "cell_type": "markdown",
      "source": [
        "IR GENERATOR (TAC)"
      ],
      "metadata": {
        "id": "FqBwoxFdi_xO"
      }
    },
    {
      "cell_type": "code",
      "source": [
        "_tmp,_lbl = 0,0\n",
        "def _new_tmp(): global _tmp; t=f\"t{_tmp}\";_tmp+=1;return t\n",
        "def _new_lbl(): global _lbl; L=f\"L{_lbl}\";_lbl+=1;return L\n",
        "def _reset(): global _tmp,_lbl;_tmp=_lbl=0\n",
        "\n",
        "def gen_expr(n,st):\n",
        "    k=n[0]\n",
        "    if k==\"num\": t=_new_tmp(); return [f\"{t} = {n[1]}\"], t\n",
        "    if k==\"var\": t=_new_tmp(); return [f\"{t} = {n[1]}\"], t\n",
        "    if k in (\"add\",\"sub\",\"mul\",\"div\",\"gt\",\"lt\",\"ge\",\"le\"):\n",
        "        op={ \"add\":\"+\",\"sub\":\"-\",\"mul\":\"*\",\"div\":\"/\",\n",
        "             \"gt\":\">\",\"lt\":\"<\",\"ge\":\">=\",\"le\":\"<=\"}[k]\n",
        "        c1,t1=gen_expr(n[1],st); c2,t2=gen_expr(n[2],st)\n",
        "        t=_new_tmp(); return c1+c2+[f\"{t} = {t1} {op} {t2}\"],t\n",
        "\n",
        "def gen_stmt(n,st):\n",
        "    k=n[0]\n",
        "    if k==\"decl\":\n",
        "        name,init=n[1],n[2]\n",
        "        if init is None: return [f\"{name} = 0\"]\n",
        "        c,t=gen_expr(init,st); return c+[f\"{name} = {t}\"]\n",
        "    if k==\"assign\":\n",
        "        name,e=n[1],n[2]\n",
        "        c,t=gen_expr(e,st); return c+[f\"{name} = {t}\"]\n",
        "    if k==\"print\":\n",
        "        c,t=gen_expr(n[1],st); return c+[f\"print {t}\"]\n",
        "    if k==\"if\":\n",
        "        cond,then,els=n[1],n[2],n[3]\n",
        "        c,t=gen_expr(cond,st); L1,L2=_new_lbl(),_new_lbl()\n",
        "        out=c+[f\"ifFalse {t} goto {L1}\"]+gen_stmt(then,st)+[f\"goto {L2}\",f\"label {L1}\"]\n",
        "        if els: out+=gen_stmt(els,st)\n",
        "        out+=[f\"label {L2}\"]; return out\n",
        "    if k==\"while\":\n",
        "        cond,body=n[1],n[2]; L1,L2=_new_lbl(),_new_lbl()\n",
        "        c,t=gen_expr(cond,st)\n",
        "        out=[f\"label {L1}\"]+c+[f\"ifFalse {t} goto {L2}\"]+gen_stmt(body,st)+[f\"goto {L1}\",f\"label {L2}\"]\n",
        "        return out\n",
        "    if k==\"block\":\n",
        "        out=[]; [out.extend(gen_stmt(s,st)) for s in n[1]]; return out\n",
        "\n",
        "def gen_program(ast,st):\n",
        "    _reset(); code=[]\n",
        "    for s in ast: code+=gen_stmt(s,st)\n",
        "    return code\n"
      ],
      "metadata": {
        "id": "xscPux4vi8UI"
      },
      "execution_count": 5,
      "outputs": []
    },
    {
      "cell_type": "markdown",
      "source": [
        "OPTIMIZER"
      ],
      "metadata": {
        "id": "zNuhHDpbi8BP"
      }
    },
    {
      "cell_type": "code",
      "source": [
        "def peephole_const_move(tac):\n",
        "    out=[]; i=0\n",
        "    while i<len(tac):\n",
        "        if i+1<len(tac):\n",
        "            p1=tac[i].split(); p2=tac[i+1].split()\n",
        "            if len(p1)==3 and p1[1]==\"=\" and p1[2].isdigit() and len(p2)==3 and p2[1]==\"=\" and p2[2]==p1[0]:\n",
        "                out.append(f\"{p2[0]} = {p1[2]}\"); i+=2; continue\n",
        "        out.append(tac[i]); i+=1\n",
        "    return out\n"
      ],
      "metadata": {
        "id": "8sJMON8RjFof"
      },
      "execution_count": 6,
      "outputs": []
    },
    {
      "cell_type": "markdown",
      "source": [
        "CODE GENERATOR (Assembly-like)"
      ],
      "metadata": {
        "id": "HSMcBi7cjOp1"
      }
    },
    {
      "cell_type": "code",
      "source": [
        "def tac_to_assembly(tac):\n",
        "    asm=[]\n",
        "    for l in tac:\n",
        "        p=l.split()\n",
        "        if not p: continue\n",
        "        if p[0]==\"print\": asm.append(f\"PRINT {p[1]}\")\n",
        "        elif p[0]==\"label\": asm.append(f\"LABEL {p[1]}\")\n",
        "        elif p[0]==\"goto\": asm.append(f\"JMP {p[1]}\")\n",
        "        elif p[0]==\"ifFalse\": asm.append(f\"JZ {p[1]} {p[3]}\")\n",
        "        elif \"=\" in p:\n",
        "            dst=p[0]\n",
        "            if len(p)==5: _,_,a,op,b=p; asm += [f\"LOAD {a}\",f\"LOAD {b}\",f\"{op.upper()}\",f\"STORE {dst}\"]\n",
        "            elif len(p)==3: _,_,a=p; asm += [f\"LOAD {a}\",f\"STORE {dst}\"]\n",
        "    return asm\n"
      ],
      "metadata": {
        "id": "rCWaSZ0mjPQH"
      },
      "execution_count": 7,
      "outputs": []
    },
    {
      "cell_type": "markdown",
      "source": [
        "DRIVER CODE"
      ],
      "metadata": {
        "id": "XoOEGUjpjYmz"
      }
    },
    {
      "cell_type": "code",
      "source": [
        "\n",
        "source_code = \"\"\"int main(){\n",
        "  int x = 10;\n",
        "  int y = 20;\n",
        "  if (x < y) { print(x); } else { print(y); }\n",
        "}\"\"\"\n",
        "\n",
        "print(\"=== SOURCE CODE ===\\n\", source_code)\n",
        "\n",
        "# Lexical Analysis\n",
        "cats = tokenize_summary(source_code)\n",
        "print(\"\\n=== TOKENS ===\")\n",
        "for k,v in cats.items():\n",
        "    print(f\"{k} ({len(v)}): {', '.join(v) if v else '-'}\")\n",
        "\n",
        "# Syntax → AST\n",
        "print(\"\\n=== AST ===\")\n",
        "ast = parse_to_ast(source_code)\n",
        "for i,n in enumerate(ast,1):\n",
        "    print(i, n)\n",
        "\n",
        "# Semantic → Symbol Table\n",
        "print(\"\\n=== SYMBOL TABLE ===\")\n",
        "st = SymbolTable()\n",
        "first_pass_decls(ast, st)\n",
        "for row in st.dump():\n",
        "    print(f\"ID={row[0]}, Name={row[1]}, Type={row[2]}, Size={row[3]} bytes, Decl={row[4]}\")\n",
        "\n",
        "# IR Generation\n",
        "print(\"\\n=== IR CODE ===\")\n",
        "ir = gen_program(ast, st)\n",
        "print(\"\\n\".join(ir))\n",
        "\n",
        "# Optimization\n",
        "print(\"\\n=== OPTIMIZED IR ===\")\n",
        "opt = peephole_const_move(ir)\n",
        "print(\"\\n\".join(opt))\n",
        "\n",
        "# Assembly-like Code\n",
        "print(\"\\n=== ASSEMBLY CODE ===\")\n",
        "asm = tac_to_assembly(opt)\n",
        "print(\"\\n\".join(asm))\n",
        "\n",
        "\n"
      ],
      "metadata": {
        "colab": {
          "base_uri": "https://localhost:8080/"
        },
        "id": "mIOuvLjij4oi",
        "outputId": "0db71b43-b7b9-4a1e-aba8-c3127f7feb3b"
      },
      "execution_count": 8,
      "outputs": [
        {
          "output_type": "stream",
          "name": "stdout",
          "text": [
            "=== SOURCE CODE ===\n",
            " int main(){\n",
            "  int x = 10;\n",
            "  int y = 20;\n",
            "  if (x < y) { print(x); } else { print(y); }\n",
            "}\n",
            "\n",
            "=== TOKENS ===\n",
            "Keyword (8): int, main, int, int, if, print, else, print\n",
            "Identifier (6): x, y, x, y, x, y\n",
            "Constant (2): 10, 20\n",
            "Operator (3): =, =, <\n",
            "Punctuation (18): (, ), {, ;, ;, (, ), {, (, ), ;, }, {, (, ), ;, }, }\n",
            "Comment (0): -\n",
            "\n",
            "=== AST ===\n",
            "1 ('decl', 'x', ('num', 10))\n",
            "2 ('decl', 'y', ('num', 20))\n",
            "3 ('if', ('lt', ('var', 'x'), ('var', 'y')), ('block', [('print', ('var', 'x'))]), ('block', [('print', ('var', 'y'))]))\n",
            "\n",
            "=== SYMBOL TABLE ===\n",
            "ID=0, Name=x, Type=int, Size=4 bytes, Decl=[1]\n",
            "ID=1, Name=y, Type=int, Size=4 bytes, Decl=[2]\n",
            "\n",
            "=== IR CODE ===\n",
            "t0 = 10\n",
            "x = t0\n",
            "t1 = 20\n",
            "y = t1\n",
            "t2 = x\n",
            "t3 = y\n",
            "t4 = t2 < t3\n",
            "ifFalse t4 goto L0\n",
            "t5 = x\n",
            "print t5\n",
            "goto L1\n",
            "label L0\n",
            "t6 = y\n",
            "print t6\n",
            "label L1\n",
            "\n",
            "=== OPTIMIZED IR ===\n",
            "x = 10\n",
            "y = 20\n",
            "t2 = x\n",
            "t3 = y\n",
            "t4 = t2 < t3\n",
            "ifFalse t4 goto L0\n",
            "t5 = x\n",
            "print t5\n",
            "goto L1\n",
            "label L0\n",
            "t6 = y\n",
            "print t6\n",
            "label L1\n",
            "\n",
            "=== ASSEMBLY CODE ===\n",
            "LOAD 10\n",
            "STORE x\n",
            "LOAD 20\n",
            "STORE y\n",
            "LOAD x\n",
            "STORE t2\n",
            "LOAD y\n",
            "STORE t3\n",
            "LOAD t2\n",
            "LOAD t3\n",
            "<\n",
            "STORE t4\n",
            "JZ t4 L0\n",
            "LOAD x\n",
            "STORE t5\n",
            "PRINT t5\n",
            "JMP L1\n",
            "LABEL L0\n",
            "LOAD y\n",
            "STORE t6\n",
            "PRINT t6\n",
            "LABEL L1\n"
          ]
        }
      ]
    }
  ]
}